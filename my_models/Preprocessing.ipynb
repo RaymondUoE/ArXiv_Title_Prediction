{
 "cells": [
  {
   "cell_type": "code",
   "execution_count": 5,
   "id": "liberal-cabinet",
   "metadata": {},
   "outputs": [],
   "source": [
    "import pandas as pd\n",
    "from sklearn.model_selection import train_test_split\n",
    "from sklearn.utils import shuffle"
   ]
  },
  {
   "cell_type": "code",
   "execution_count": 20,
   "id": "contrary-protocol",
   "metadata": {},
   "outputs": [],
   "source": [
    "# loading data\n",
    "# data = pd.read_csv('../data/papers.csv')[['title', 'abstract']]\n",
    "data_small = pd.read_csv('../data/papers_small.csv')[['title', 'abstract']]"
   ]
  },
  {
   "cell_type": "code",
   "execution_count": 21,
   "id": "authentic-declaration",
   "metadata": {},
   "outputs": [],
   "source": [
    "# shuffle samples\n",
    "# data = shuffle(data, random_state=21).reset_index(drop=True)\n",
    "X = data_small[['abstract']]\n",
    "y = data_small['title']"
   ]
  },
  {
   "cell_type": "code",
   "execution_count": 22,
   "id": "organic-basketball",
   "metadata": {},
   "outputs": [],
   "source": [
    "X_train, X_val, y_train, y_val = train_test_split(X, y, test_size=0.15, random_state=21)"
   ]
  },
  {
   "cell_type": "code",
   "execution_count": 23,
   "id": "experienced-trustee",
   "metadata": {},
   "outputs": [],
   "source": [
    "X_train, X_test, y_train, y_test = train_test_split(X_train, y_train, test_size=15/85, random_state=22)"
   ]
  },
  {
   "cell_type": "code",
   "execution_count": 24,
   "id": "alien-detective",
   "metadata": {},
   "outputs": [
    {
     "data": {
      "text/plain": [
       "69999"
      ]
     },
     "execution_count": 24,
     "metadata": {},
     "output_type": "execute_result"
    }
   ],
   "source": [
    "X_train.shape[0]"
   ]
  },
  {
   "cell_type": "code",
   "execution_count": null,
   "id": "historical-hearts",
   "metadata": {},
   "outputs": [],
   "source": [
    "X_train.to_csv"
   ]
  },
  {
   "cell_type": "code",
   "execution_count": 32,
   "id": "synthetic-calibration",
   "metadata": {
    "scrolled": false
   },
   "outputs": [],
   "source": [
    "X_test = X_test.reset_index(drop=True)"
   ]
  },
  {
   "cell_type": "code",
   "execution_count": 30,
   "id": "acknowledged-librarian",
   "metadata": {},
   "outputs": [
    {
     "data": {
      "text/html": [
       "<div>\n",
       "<style scoped>\n",
       "    .dataframe tbody tr th:only-of-type {\n",
       "        vertical-align: middle;\n",
       "    }\n",
       "\n",
       "    .dataframe tbody tr th {\n",
       "        vertical-align: top;\n",
       "    }\n",
       "\n",
       "    .dataframe thead th {\n",
       "        text-align: right;\n",
       "    }\n",
       "</style>\n",
       "<table border=\"1\" class=\"dataframe\">\n",
       "  <thead>\n",
       "    <tr style=\"text-align: right;\">\n",
       "      <th></th>\n",
       "      <th>abstract</th>\n",
       "    </tr>\n",
       "  </thead>\n",
       "  <tbody>\n",
       "    <tr>\n",
       "      <th>4169</th>\n",
       "      <td>The diffusive thermal conductivity of neutro...</td>\n",
       "    </tr>\n",
       "    <tr>\n",
       "      <th>47370</th>\n",
       "      <td>We adapt a technique of nonsmooth critical p...</td>\n",
       "    </tr>\n",
       "    <tr>\n",
       "      <th>85409</th>\n",
       "      <td>We present a multifrequency radio investigat...</td>\n",
       "    </tr>\n",
       "    <tr>\n",
       "      <th>1850</th>\n",
       "      <td>Non-equilibrium Green's functions (NEGF) for...</td>\n",
       "    </tr>\n",
       "    <tr>\n",
       "      <th>69340</th>\n",
       "      <td>This article deals with trace operators on a...</td>\n",
       "    </tr>\n",
       "    <tr>\n",
       "      <th>...</th>\n",
       "      <td>...</td>\n",
       "    </tr>\n",
       "    <tr>\n",
       "      <th>80830</th>\n",
       "      <td>A major part of Marian Smoluchowski's achiev...</td>\n",
       "    </tr>\n",
       "    <tr>\n",
       "      <th>52188</th>\n",
       "      <td>This paper studies the characteristics and a...</td>\n",
       "    </tr>\n",
       "    <tr>\n",
       "      <th>4885</th>\n",
       "      <td>We introduce the class of analytic functions...</td>\n",
       "    </tr>\n",
       "    <tr>\n",
       "      <th>859</th>\n",
       "      <td>Thermalization of a heavy quark near rest is...</td>\n",
       "    </tr>\n",
       "    <tr>\n",
       "      <th>99693</th>\n",
       "      <td>We study higher order corrections in new min...</td>\n",
       "    </tr>\n",
       "  </tbody>\n",
       "</table>\n",
       "<p>15001 rows × 1 columns</p>\n",
       "</div>"
      ],
      "text/plain": [
       "                                                abstract\n",
       "4169     The diffusive thermal conductivity of neutro...\n",
       "47370    We adapt a technique of nonsmooth critical p...\n",
       "85409    We present a multifrequency radio investigat...\n",
       "1850     Non-equilibrium Green's functions (NEGF) for...\n",
       "69340    This article deals with trace operators on a...\n",
       "...                                                  ...\n",
       "80830    A major part of Marian Smoluchowski's achiev...\n",
       "52188    This paper studies the characteristics and a...\n",
       "4885     We introduce the class of analytic functions...\n",
       "859      Thermalization of a heavy quark near rest is...\n",
       "99693    We study higher order corrections in new min...\n",
       "\n",
       "[15001 rows x 1 columns]"
      ]
     },
     "execution_count": 30,
     "metadata": {},
     "output_type": "execute_result"
    }
   ],
   "source": [
    "X_test"
   ]
  },
  {
   "cell_type": "code",
   "execution_count": 41,
   "id": "eight-identification",
   "metadata": {},
   "outputs": [],
   "source": [
    "y_test.to_csv(r'test.txt', header=None, index=None, sep='\\n')"
   ]
  },
  {
   "cell_type": "code",
   "execution_count": 42,
   "id": "earned-india",
   "metadata": {},
   "outputs": [
    {
     "name": "stdout",
     "output_type": "stream",
     "text": [
      "15001\n"
     ]
    }
   ],
   "source": [
    "with open('test.txt') as f:\n",
    "    counter = 0\n",
    "    for l in f.readlines():\n",
    "        counter += 1\n",
    "    print(counter)"
   ]
  },
  {
   "cell_type": "code",
   "execution_count": 60,
   "id": "fiscal-essay",
   "metadata": {},
   "outputs": [],
   "source": [
    "from torchtext.vocab import build_vocab_from_iterator\n",
    "from torch.utils.data import DataLoader"
   ]
  },
  {
   "cell_type": "code",
   "execution_count": 12,
   "id": "stylish-correction",
   "metadata": {},
   "outputs": [],
   "source": [
    "with open('..\\data\\X_val_small.txt', encoding = 'utf-8') as f:\n",
    "    X_val = f.readlines()\n",
    "with open('..\\data\\y_val_small.txt', encoding = 'utf-8') as f:\n",
    "    y_val = f.readlines()"
   ]
  },
  {
   "cell_type": "code",
   "execution_count": 28,
   "id": "described-escape",
   "metadata": {},
   "outputs": [],
   "source": [
    "def yield_tokens(docs):\n",
    "    for line in docs:\n",
    "        yield [x.lower() for x in (['<sos>'] + line.strip().split() + ['<eos>'])]"
   ]
  },
  {
   "cell_type": "code",
   "execution_count": 57,
   "id": "ideal-temple",
   "metadata": {},
   "outputs": [],
   "source": [
    "vocab = build_vocab_from_iterator(yield_tokens(X_val), specials=[\"<unk>\", '<pad>'])\n",
    "vocab.set_default_index(vocab['<unk>'])"
   ]
  },
  {
   "cell_type": "code",
   "execution_count": 58,
   "id": "statistical-ready",
   "metadata": {},
   "outputs": [
    {
     "data": {
      "text/plain": [
       "1"
      ]
     },
     "execution_count": 58,
     "metadata": {},
     "output_type": "execute_result"
    }
   ],
   "source": [
    "vocab['<pad>']"
   ]
  },
  {
   "cell_type": "code",
   "execution_count": 67,
   "id": "compressed-finish",
   "metadata": {},
   "outputs": [],
   "source": [
    "train_dataLoader = DataLoader(list(zip(X_val, y_val)), batch_size=64, shuffle=True)"
   ]
  },
  {
   "cell_type": "code",
   "execution_count": 69,
   "id": "extensive-webcam",
   "metadata": {},
   "outputs": [],
   "source": [
    "train_features, train_labels = next(iter(train_dataLoader))"
   ]
  },
  {
   "cell_type": "code",
   "execution_count": 70,
   "id": "organizational-penny",
   "metadata": {},
   "outputs": [
    {
     "ename": "AttributeError",
     "evalue": "'tuple' object has no attribute 'size'",
     "output_type": "error",
     "traceback": [
      "\u001b[1;31m---------------------------------------------------------------------------\u001b[0m",
      "\u001b[1;31mAttributeError\u001b[0m                            Traceback (most recent call last)",
      "\u001b[1;32m<ipython-input-70-db8c0e8795a8>\u001b[0m in \u001b[0;36m<module>\u001b[1;34m\u001b[0m\n\u001b[1;32m----> 1\u001b[1;33m \u001b[0mprint\u001b[0m\u001b[1;33m(\u001b[0m\u001b[1;34mf\"Feature batch shape: {train_features.size()}\"\u001b[0m\u001b[1;33m)\u001b[0m\u001b[1;33m\u001b[0m\u001b[1;33m\u001b[0m\u001b[0m\n\u001b[0m\u001b[0;32m      2\u001b[0m \u001b[0mprint\u001b[0m\u001b[1;33m(\u001b[0m\u001b[1;34mf\"Labels batch shape: {train_labels.size()}\"\u001b[0m\u001b[1;33m)\u001b[0m\u001b[1;33m\u001b[0m\u001b[1;33m\u001b[0m\u001b[0m\n\u001b[0;32m      3\u001b[0m \u001b[0mimg\u001b[0m \u001b[1;33m=\u001b[0m \u001b[0mtrain_features\u001b[0m\u001b[1;33m[\u001b[0m\u001b[1;36m0\u001b[0m\u001b[1;33m]\u001b[0m\u001b[1;33m.\u001b[0m\u001b[0msqueeze\u001b[0m\u001b[1;33m(\u001b[0m\u001b[1;33m)\u001b[0m\u001b[1;33m\u001b[0m\u001b[1;33m\u001b[0m\u001b[0m\n\u001b[0;32m      4\u001b[0m \u001b[0mlabel\u001b[0m \u001b[1;33m=\u001b[0m \u001b[0mtrain_labels\u001b[0m\u001b[1;33m[\u001b[0m\u001b[1;36m0\u001b[0m\u001b[1;33m]\u001b[0m\u001b[1;33m\u001b[0m\u001b[1;33m\u001b[0m\u001b[0m\n\u001b[0;32m      5\u001b[0m \u001b[0mplt\u001b[0m\u001b[1;33m.\u001b[0m\u001b[0mimshow\u001b[0m\u001b[1;33m(\u001b[0m\u001b[0mimg\u001b[0m\u001b[1;33m,\u001b[0m \u001b[0mcmap\u001b[0m\u001b[1;33m=\u001b[0m\u001b[1;34m\"gray\"\u001b[0m\u001b[1;33m)\u001b[0m\u001b[1;33m\u001b[0m\u001b[1;33m\u001b[0m\u001b[0m\n",
      "\u001b[1;31mAttributeError\u001b[0m: 'tuple' object has no attribute 'size'"
     ]
    }
   ],
   "source": [
    "print(f\"Feature batch shape: {train_features.size()}\")\n",
    "print(f\"Labels batch shape: {train_labels.size()}\")\n",
    "img = train_features[0].squeeze()\n",
    "label = train_labels[0]\n",
    "plt.imshow(img, cmap=\"gray\")\n",
    "plt.show()\n",
    "print(f\"Label: {label}\")"
   ]
  },
  {
   "cell_type": "code",
   "execution_count": 74,
   "id": "important-michael",
   "metadata": {
    "scrolled": true
   },
   "outputs": [
    {
     "data": {
      "text/plain": [
       "'\"  A recent development in the derivation of soliton solutions for initial-boundary value problems through Darboux transformations, motivated to reconsider solutions to the nonlinear Schr\\\\\"\"odinger (NLS) equation on two half-lines connected via integrable defect conditions. Thereby, the Darboux transformation to construct soliton solutions is applied, while preserving the spectral boundary constraint with a time-dependent defect matrix. In this particular model, $N$-soliton solutions vanishing at infinity are constructed. Further, it is proven that solitons are transmitted through the defect independently of one another. \"\\n'"
      ]
     },
     "execution_count": 74,
     "metadata": {},
     "output_type": "execute_result"
    }
   ],
   "source": [
    "train_features[0]"
   ]
  },
  {
   "cell_type": "code",
   "execution_count": 75,
   "id": "seven-british",
   "metadata": {},
   "outputs": [],
   "source": [
    "from torchtext.datasets import Multi30k"
   ]
  },
  {
   "cell_type": "code",
   "execution_count": 76,
   "id": "fleet-despite",
   "metadata": {},
   "outputs": [
    {
     "ename": "AttributeError",
     "evalue": "'function' object has no attribute 'splits'",
     "output_type": "error",
     "traceback": [
      "\u001b[1;31m---------------------------------------------------------------------------\u001b[0m",
      "\u001b[1;31mAttributeError\u001b[0m                            Traceback (most recent call last)",
      "\u001b[1;32m<ipython-input-76-cc515cd9fb6e>\u001b[0m in \u001b[0;36m<module>\u001b[1;34m\u001b[0m\n\u001b[1;32m----> 1\u001b[1;33m train_data, valid_data, test_data = Multi30k.splits(\n\u001b[0m\u001b[0;32m      2\u001b[0m     \u001b[0mexts\u001b[0m\u001b[1;33m=\u001b[0m\u001b[1;33m(\u001b[0m\u001b[1;34m\".de\"\u001b[0m\u001b[1;33m,\u001b[0m \u001b[1;34m\".en\"\u001b[0m\u001b[1;33m)\u001b[0m\u001b[1;33m,\u001b[0m \u001b[0mfields\u001b[0m\u001b[1;33m=\u001b[0m\u001b[1;33m(\u001b[0m\u001b[0mgerman\u001b[0m\u001b[1;33m,\u001b[0m \u001b[0menglish\u001b[0m\u001b[1;33m)\u001b[0m\u001b[1;33m\u001b[0m\u001b[1;33m\u001b[0m\u001b[0m\n\u001b[0;32m      3\u001b[0m )\n",
      "\u001b[1;31mAttributeError\u001b[0m: 'function' object has no attribute 'splits'"
     ]
    }
   ],
   "source": [
    "train_data, valid_data, test_data = Multi30k.splits(\n",
    "    exts=(\".de\", \".en\"), fields=(german, english)\n",
    ")"
   ]
  }
 ],
 "metadata": {
  "kernelspec": {
   "display_name": "Python 3",
   "language": "python",
   "name": "python3"
  },
  "language_info": {
   "codemirror_mode": {
    "name": "ipython",
    "version": 3
   },
   "file_extension": ".py",
   "mimetype": "text/x-python",
   "name": "python",
   "nbconvert_exporter": "python",
   "pygments_lexer": "ipython3",
   "version": "3.8.5"
  }
 },
 "nbformat": 4,
 "nbformat_minor": 5
}
